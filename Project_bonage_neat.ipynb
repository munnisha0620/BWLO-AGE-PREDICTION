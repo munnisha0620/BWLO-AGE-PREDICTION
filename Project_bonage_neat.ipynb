{
  "cells": [
    {
      "cell_type": "markdown",
      "metadata": {
        "id": "view-in-github",
        "colab_type": "text"
      },
      "source": [
        "<a href=\"https://colab.research.google.com/github/munnisha0620/BWLO-AGE-PREDICTION/blob/main/Project_bonage_neat.ipynb\" target=\"_parent\"><img src=\"https://colab.research.google.com/assets/colab-badge.svg\" alt=\"Open In Colab\"/></a>"
      ]
    },
    {
      "cell_type": "code",
      "execution_count": null,
      "metadata": {
        "colab": {
          "base_uri": "https://localhost:8080/"
        },
        "id": "hhDmQ_d3sXY1",
        "outputId": "524dbb47-8d4e-4404-b0c2-3b54c775aab8"
      },
      "outputs": [
        {
          "output_type": "stream",
          "name": "stdout",
          "text": [
            "Drive already mounted at /content/drive; to attempt to forcibly remount, call drive.mount(\"/content/drive\", force_remount=True).\n"
          ]
        }
      ],
      "source": [
        "from google.colab import drive\n",
        "drive.mount('/content/drive')"
      ]
    },
    {
      "cell_type": "code",
      "execution_count": null,
      "metadata": {
        "id": "AD5VURgUsheg"
      },
      "outputs": [],
      "source": [
        " ! pip install -q kaggle"
      ]
    },
    {
      "cell_type": "code",
      "execution_count": null,
      "metadata": {
        "id": "Hn7Ycn9mtMmj",
        "colab": {
          "base_uri": "https://localhost:8080/",
          "height": 90
        },
        "outputId": "b70e301c-5fd3-41d0-d28b-bae94776113e"
      },
      "outputs": [
        {
          "output_type": "display_data",
          "data": {
            "text/plain": [
              "<IPython.core.display.HTML object>"
            ],
            "text/html": [
              "\n",
              "     <input type=\"file\" id=\"files-52d5ac2a-3039-4d7d-92aa-dfc6243b4b43\" name=\"files[]\" multiple disabled\n",
              "        style=\"border:none\" />\n",
              "     <output id=\"result-52d5ac2a-3039-4d7d-92aa-dfc6243b4b43\">\n",
              "      Upload widget is only available when the cell has been executed in the\n",
              "      current browser session. Please rerun this cell to enable.\n",
              "      </output>\n",
              "      <script>// Copyright 2017 Google LLC\n",
              "//\n",
              "// Licensed under the Apache License, Version 2.0 (the \"License\");\n",
              "// you may not use this file except in compliance with the License.\n",
              "// You may obtain a copy of the License at\n",
              "//\n",
              "//      http://www.apache.org/licenses/LICENSE-2.0\n",
              "//\n",
              "// Unless required by applicable law or agreed to in writing, software\n",
              "// distributed under the License is distributed on an \"AS IS\" BASIS,\n",
              "// WITHOUT WARRANTIES OR CONDITIONS OF ANY KIND, either express or implied.\n",
              "// See the License for the specific language governing permissions and\n",
              "// limitations under the License.\n",
              "\n",
              "/**\n",
              " * @fileoverview Helpers for google.colab Python module.\n",
              " */\n",
              "(function(scope) {\n",
              "function span(text, styleAttributes = {}) {\n",
              "  const element = document.createElement('span');\n",
              "  element.textContent = text;\n",
              "  for (const key of Object.keys(styleAttributes)) {\n",
              "    element.style[key] = styleAttributes[key];\n",
              "  }\n",
              "  return element;\n",
              "}\n",
              "\n",
              "// Max number of bytes which will be uploaded at a time.\n",
              "const MAX_PAYLOAD_SIZE = 100 * 1024;\n",
              "\n",
              "function _uploadFiles(inputId, outputId) {\n",
              "  const steps = uploadFilesStep(inputId, outputId);\n",
              "  const outputElement = document.getElementById(outputId);\n",
              "  // Cache steps on the outputElement to make it available for the next call\n",
              "  // to uploadFilesContinue from Python.\n",
              "  outputElement.steps = steps;\n",
              "\n",
              "  return _uploadFilesContinue(outputId);\n",
              "}\n",
              "\n",
              "// This is roughly an async generator (not supported in the browser yet),\n",
              "// where there are multiple asynchronous steps and the Python side is going\n",
              "// to poll for completion of each step.\n",
              "// This uses a Promise to block the python side on completion of each step,\n",
              "// then passes the result of the previous step as the input to the next step.\n",
              "function _uploadFilesContinue(outputId) {\n",
              "  const outputElement = document.getElementById(outputId);\n",
              "  const steps = outputElement.steps;\n",
              "\n",
              "  const next = steps.next(outputElement.lastPromiseValue);\n",
              "  return Promise.resolve(next.value.promise).then((value) => {\n",
              "    // Cache the last promise value to make it available to the next\n",
              "    // step of the generator.\n",
              "    outputElement.lastPromiseValue = value;\n",
              "    return next.value.response;\n",
              "  });\n",
              "}\n",
              "\n",
              "/**\n",
              " * Generator function which is called between each async step of the upload\n",
              " * process.\n",
              " * @param {string} inputId Element ID of the input file picker element.\n",
              " * @param {string} outputId Element ID of the output display.\n",
              " * @return {!Iterable<!Object>} Iterable of next steps.\n",
              " */\n",
              "function* uploadFilesStep(inputId, outputId) {\n",
              "  const inputElement = document.getElementById(inputId);\n",
              "  inputElement.disabled = false;\n",
              "\n",
              "  const outputElement = document.getElementById(outputId);\n",
              "  outputElement.innerHTML = '';\n",
              "\n",
              "  const pickedPromise = new Promise((resolve) => {\n",
              "    inputElement.addEventListener('change', (e) => {\n",
              "      resolve(e.target.files);\n",
              "    });\n",
              "  });\n",
              "\n",
              "  const cancel = document.createElement('button');\n",
              "  inputElement.parentElement.appendChild(cancel);\n",
              "  cancel.textContent = 'Cancel upload';\n",
              "  const cancelPromise = new Promise((resolve) => {\n",
              "    cancel.onclick = () => {\n",
              "      resolve(null);\n",
              "    };\n",
              "  });\n",
              "\n",
              "  // Wait for the user to pick the files.\n",
              "  const files = yield {\n",
              "    promise: Promise.race([pickedPromise, cancelPromise]),\n",
              "    response: {\n",
              "      action: 'starting',\n",
              "    }\n",
              "  };\n",
              "\n",
              "  cancel.remove();\n",
              "\n",
              "  // Disable the input element since further picks are not allowed.\n",
              "  inputElement.disabled = true;\n",
              "\n",
              "  if (!files) {\n",
              "    return {\n",
              "      response: {\n",
              "        action: 'complete',\n",
              "      }\n",
              "    };\n",
              "  }\n",
              "\n",
              "  for (const file of files) {\n",
              "    const li = document.createElement('li');\n",
              "    li.append(span(file.name, {fontWeight: 'bold'}));\n",
              "    li.append(span(\n",
              "        `(${file.type || 'n/a'}) - ${file.size} bytes, ` +\n",
              "        `last modified: ${\n",
              "            file.lastModifiedDate ? file.lastModifiedDate.toLocaleDateString() :\n",
              "                                    'n/a'} - `));\n",
              "    const percent = span('0% done');\n",
              "    li.appendChild(percent);\n",
              "\n",
              "    outputElement.appendChild(li);\n",
              "\n",
              "    const fileDataPromise = new Promise((resolve) => {\n",
              "      const reader = new FileReader();\n",
              "      reader.onload = (e) => {\n",
              "        resolve(e.target.result);\n",
              "      };\n",
              "      reader.readAsArrayBuffer(file);\n",
              "    });\n",
              "    // Wait for the data to be ready.\n",
              "    let fileData = yield {\n",
              "      promise: fileDataPromise,\n",
              "      response: {\n",
              "        action: 'continue',\n",
              "      }\n",
              "    };\n",
              "\n",
              "    // Use a chunked sending to avoid message size limits. See b/62115660.\n",
              "    let position = 0;\n",
              "    do {\n",
              "      const length = Math.min(fileData.byteLength - position, MAX_PAYLOAD_SIZE);\n",
              "      const chunk = new Uint8Array(fileData, position, length);\n",
              "      position += length;\n",
              "\n",
              "      const base64 = btoa(String.fromCharCode.apply(null, chunk));\n",
              "      yield {\n",
              "        response: {\n",
              "          action: 'append',\n",
              "          file: file.name,\n",
              "          data: base64,\n",
              "        },\n",
              "      };\n",
              "\n",
              "      let percentDone = fileData.byteLength === 0 ?\n",
              "          100 :\n",
              "          Math.round((position / fileData.byteLength) * 100);\n",
              "      percent.textContent = `${percentDone}% done`;\n",
              "\n",
              "    } while (position < fileData.byteLength);\n",
              "  }\n",
              "\n",
              "  // All done.\n",
              "  yield {\n",
              "    response: {\n",
              "      action: 'complete',\n",
              "    }\n",
              "  };\n",
              "}\n",
              "\n",
              "scope.google = scope.google || {};\n",
              "scope.google.colab = scope.google.colab || {};\n",
              "scope.google.colab._files = {\n",
              "  _uploadFiles,\n",
              "  _uploadFilesContinue,\n",
              "};\n",
              "})(self);\n",
              "</script> "
            ]
          },
          "metadata": {}
        },
        {
          "output_type": "stream",
          "name": "stdout",
          "text": [
            "Saving kaggle.json to kaggle.json\n"
          ]
        },
        {
          "output_type": "execute_result",
          "data": {
            "text/plain": [
              "{'kaggle.json': b'{\"username\":\"tharimunnishashaik\",\"key\":\"1db43d4c47b9ab8b3090e5917535b5f9\"}'}"
            ]
          },
          "metadata": {},
          "execution_count": 4
        }
      ],
      "source": [
        "from google.colab import files\n",
        "\n",
        "files.upload()"
      ]
    },
    {
      "cell_type": "code",
      "execution_count": null,
      "metadata": {
        "id": "ic1RSS3YtTex"
      },
      "outputs": [],
      "source": [
        "! mkdir ~/.kaggle\n",
        "! cp kaggle.json ~/.kaggle/"
      ]
    },
    {
      "cell_type": "code",
      "execution_count": null,
      "metadata": {
        "id": "VDrjTgyztb-Y"
      },
      "outputs": [],
      "source": [
        "! chmod 600 ~/.kaggle/kaggle.json"
      ]
    },
    {
      "cell_type": "code",
      "execution_count": null,
      "metadata": {
        "id": "eGAKLnfdtmKf",
        "colab": {
          "base_uri": "https://localhost:8080/"
        },
        "outputId": "98f58e65-6c22-408c-d412-98658cd57700"
      },
      "outputs": [
        {
          "output_type": "stream",
          "name": "stdout",
          "text": [
            "ref                                                                 title                                                size  lastUpdated          downloadCount  voteCount  usabilityRating  \n",
            "------------------------------------------------------------------  --------------------------------------------------  -----  -------------------  -------------  ---------  ---------------  \n",
            "amanbarthwal/imdb-movies-data                                       IMDB Movies Dataset                                   8MB  2024-05-16 18:43:48           1572         26  1.0              \n",
            "rahulvyasm/netflix-movies-and-tv-shows                              Netflix Movies and TV Shows                           1MB  2024-04-10 09:48:38          23081        504  1.0              \n",
            "vladimirmijatovic/data-scientists-salaries-worldwide-annual-survey  Data Scientists Salaries Worldwide - Annual Survey   51KB  2024-05-19 19:41:14           1012         31  1.0              \n",
            "jainaru/world-happiness-report-2024-yearly-updated                  World Happiness Report- 2024                         62KB  2024-05-15 19:04:34           2333         44  1.0              \n",
            "emirhanai/social-media-usage-and-emotional-well-being               Social Media Usage and Emotional Well-Being           8KB  2024-05-19 18:25:52           1210         28  1.0              \n",
            "jainaru/thyroid-disease-data                                        Thyroid Disease Data                                  3KB  2024-05-10 12:06:31           2696         64  1.0              \n",
            "sahirmaharajj/school-student-daily-attendance                       School Student Daily Attendance                       2MB  2024-04-29 19:29:56           6329        133  1.0              \n",
            "keremabdullahoglu/laptop-price-dataset-april-2024                   Laptop Price Dataset April 2024                     243KB  2024-05-18 11:28:48           1231         38  1.0              \n",
            "jainaru/global-ecological-footprint-2023                            Global Ecological Footprint 2023🌐[latest report]     13KB  2024-05-17 16:06:48            549         26  1.0              \n",
            "marianadeem755/most-played-mobile-games2008-2020                    📱📲 Most Played Mobile Games (2008-2020) 💫🕹️           2KB  2024-05-18 14:47:31            326         34  1.0              \n",
            "sahirmaharajj/college-exam-results-sat                              College Exam Results (SAT)                           10KB  2024-05-06 14:37:56           3310         55  1.0              \n",
            "lakshayjain611/f1-races-results-dataset-1950-to-2024                F1 Races Results dataset 1950 to 2024                52KB  2024-05-16 11:07:56            964         23  1.0              \n",
            "chopper53/data-engineer-salary-in-2024                              Data Engineer Salary in 2024                        108KB  2024-04-24 20:23:25           3153         60  1.0              \n",
            "raminhuseyn/airline-customer-satisfaction                           Airline Customer Satisfaction                         2MB  2024-05-06 19:05:14           1736         33  1.0              \n",
            "prasad22/weather-data                                               Weather Data                                         43MB  2024-05-18 14:27:35            944         23  1.0              \n",
            "programmerrdai/global-demographic-dynamics-population-trends        Global Demographic Dynamics: Population Trends       16MB  2024-05-20 04:48:12            626         23  1.0              \n",
            "shubhammaindola/tmdb-top-rated-movies-dataset                       IMDB Top Rated Movies Dataset                         1MB  2024-05-01 14:48:21           1000         25  1.0              \n",
            "juanmerinobermejo/smartphones-price-dataset                         Smartphones Price Dataset                            27KB  2024-04-18 17:24:55           3372         59  1.0              \n",
            "prishasawhney/mushroom-dataset                                      Mushroom Dataset (Binary Classification)            602KB  2024-04-18 19:56:44           4735        131  1.0              \n",
            "aadarshvelu/aids-virus-infection-prediction                         AIDS Virus Infection Prediction 💉                     2MB  2024-04-28 03:22:18           3722         79  1.0              \n"
          ]
        }
      ],
      "source": [
        "! kaggle datasets list"
      ]
    },
    {
      "cell_type": "code",
      "execution_count": null,
      "metadata": {
        "id": "0RNMZQNhQ4-j",
        "colab": {
          "base_uri": "https://localhost:8080/"
        },
        "outputId": "cedcbba1-f463-4445-a079-60ea6d73248d"
      },
      "outputs": [
        {
          "output_type": "stream",
          "name": "stdout",
          "text": [
            "Dataset URL: https://www.kaggle.com/datasets/kmader/rsna-bone-age\n",
            "License(s): other\n",
            "Downloading rsna-bone-age.zip to /content\n",
            "100% 9.26G/9.29G [02:11<00:00, 119MB/s]\n",
            "100% 9.29G/9.29G [02:11<00:00, 75.6MB/s]\n"
          ]
        }
      ],
      "source": [
        "!kaggle datasets download -d kmader/rsna-bone-age\n"
      ]
    },
    {
      "cell_type": "code",
      "execution_count": null,
      "metadata": {
        "id": "FAvmZNnrrmuR"
      },
      "outputs": [],
      "source": [
        "# Make directory for the dataset and unzip the downloaded file\n",
        "!mkdir -p /content/Dataset\n",
        "!unzip -q rsna-bone-age.zip -d /content/Dataset\n",
        "\n",
        "# Remove the zip file to save space\n",
        "!rm rsna-bone-age.zip"
      ]
    },
    {
      "cell_type": "code",
      "execution_count": null,
      "metadata": {
        "id": "uPEsiSwUrmuT"
      },
      "outputs": [],
      "source": [
        "import numpy as np\n",
        "import pandas as pd\n",
        "import tensorflow as tf\n",
        "import datetime, os\n",
        "import math\n",
        "import matplotlib.pyplot as plt\n",
        "import seaborn as sns\n",
        "from sklearn.model_selection import train_test_split\n",
        "from skimage.io import imread\n",
        "import os\n",
        "from glob import glob\n",
        "%matplotlib inline\n",
        "\n",
        "from tensorflow.keras.preprocessing.image import ImageDataGenerator\n",
        "from keras.applications.xception import preprocess_input as xception_preprocess_input\n",
        "\n",
        "from tensorflow.keras.layers import GlobalMaxPooling2D, Dense,Flatten, Dropout\n",
        "from tensorflow.keras.callbacks import TensorBoard, ModelCheckpoint,EarlyStopping,ReduceLROnPlateau\n",
        "from tensorflow.keras import Sequential , layers, models\n",
        "from tensorflow.keras.models import Model\n",
        "from tensorflow.keras.applications import MobileNetV2, EfficientNetB4, VGG16, xception\n"
      ]
    },
    {
      "cell_type": "code",
      "execution_count": null,
      "metadata": {
        "id": "gUyFgmVKrmuU",
        "colab": {
          "base_uri": "https://localhost:8080/",
          "height": 206
        },
        "outputId": "19307a99-f0f0-4de8-a416-115b9dc2c550"
      },
      "outputs": [
        {
          "output_type": "execute_result",
          "data": {
            "text/plain": [
              "         id  boneage   male\n",
              "0  1377.png      180  False\n",
              "1  1378.png       12  False\n",
              "2  1379.png       94  False\n",
              "3  1380.png      120   True\n",
              "4  1381.png       82  False"
            ],
            "text/html": [
              "\n",
              "  <div id=\"df-64872325-cfc6-4376-92a7-6823b8f90b4e\" class=\"colab-df-container\">\n",
              "    <div>\n",
              "<style scoped>\n",
              "    .dataframe tbody tr th:only-of-type {\n",
              "        vertical-align: middle;\n",
              "    }\n",
              "\n",
              "    .dataframe tbody tr th {\n",
              "        vertical-align: top;\n",
              "    }\n",
              "\n",
              "    .dataframe thead th {\n",
              "        text-align: right;\n",
              "    }\n",
              "</style>\n",
              "<table border=\"1\" class=\"dataframe\">\n",
              "  <thead>\n",
              "    <tr style=\"text-align: right;\">\n",
              "      <th></th>\n",
              "      <th>id</th>\n",
              "      <th>boneage</th>\n",
              "      <th>male</th>\n",
              "    </tr>\n",
              "  </thead>\n",
              "  <tbody>\n",
              "    <tr>\n",
              "      <th>0</th>\n",
              "      <td>1377.png</td>\n",
              "      <td>180</td>\n",
              "      <td>False</td>\n",
              "    </tr>\n",
              "    <tr>\n",
              "      <th>1</th>\n",
              "      <td>1378.png</td>\n",
              "      <td>12</td>\n",
              "      <td>False</td>\n",
              "    </tr>\n",
              "    <tr>\n",
              "      <th>2</th>\n",
              "      <td>1379.png</td>\n",
              "      <td>94</td>\n",
              "      <td>False</td>\n",
              "    </tr>\n",
              "    <tr>\n",
              "      <th>3</th>\n",
              "      <td>1380.png</td>\n",
              "      <td>120</td>\n",
              "      <td>True</td>\n",
              "    </tr>\n",
              "    <tr>\n",
              "      <th>4</th>\n",
              "      <td>1381.png</td>\n",
              "      <td>82</td>\n",
              "      <td>False</td>\n",
              "    </tr>\n",
              "  </tbody>\n",
              "</table>\n",
              "</div>\n",
              "    <div class=\"colab-df-buttons\">\n",
              "\n",
              "  <div class=\"colab-df-container\">\n",
              "    <button class=\"colab-df-convert\" onclick=\"convertToInteractive('df-64872325-cfc6-4376-92a7-6823b8f90b4e')\"\n",
              "            title=\"Convert this dataframe to an interactive table.\"\n",
              "            style=\"display:none;\">\n",
              "\n",
              "  <svg xmlns=\"http://www.w3.org/2000/svg\" height=\"24px\" viewBox=\"0 -960 960 960\">\n",
              "    <path d=\"M120-120v-720h720v720H120Zm60-500h600v-160H180v160Zm220 220h160v-160H400v160Zm0 220h160v-160H400v160ZM180-400h160v-160H180v160Zm440 0h160v-160H620v160ZM180-180h160v-160H180v160Zm440 0h160v-160H620v160Z\"/>\n",
              "  </svg>\n",
              "    </button>\n",
              "\n",
              "  <style>\n",
              "    .colab-df-container {\n",
              "      display:flex;\n",
              "      gap: 12px;\n",
              "    }\n",
              "\n",
              "    .colab-df-convert {\n",
              "      background-color: #E8F0FE;\n",
              "      border: none;\n",
              "      border-radius: 50%;\n",
              "      cursor: pointer;\n",
              "      display: none;\n",
              "      fill: #1967D2;\n",
              "      height: 32px;\n",
              "      padding: 0 0 0 0;\n",
              "      width: 32px;\n",
              "    }\n",
              "\n",
              "    .colab-df-convert:hover {\n",
              "      background-color: #E2EBFA;\n",
              "      box-shadow: 0px 1px 2px rgba(60, 64, 67, 0.3), 0px 1px 3px 1px rgba(60, 64, 67, 0.15);\n",
              "      fill: #174EA6;\n",
              "    }\n",
              "\n",
              "    .colab-df-buttons div {\n",
              "      margin-bottom: 4px;\n",
              "    }\n",
              "\n",
              "    [theme=dark] .colab-df-convert {\n",
              "      background-color: #3B4455;\n",
              "      fill: #D2E3FC;\n",
              "    }\n",
              "\n",
              "    [theme=dark] .colab-df-convert:hover {\n",
              "      background-color: #434B5C;\n",
              "      box-shadow: 0px 1px 3px 1px rgba(0, 0, 0, 0.15);\n",
              "      filter: drop-shadow(0px 1px 2px rgba(0, 0, 0, 0.3));\n",
              "      fill: #FFFFFF;\n",
              "    }\n",
              "  </style>\n",
              "\n",
              "    <script>\n",
              "      const buttonEl =\n",
              "        document.querySelector('#df-64872325-cfc6-4376-92a7-6823b8f90b4e button.colab-df-convert');\n",
              "      buttonEl.style.display =\n",
              "        google.colab.kernel.accessAllowed ? 'block' : 'none';\n",
              "\n",
              "      async function convertToInteractive(key) {\n",
              "        const element = document.querySelector('#df-64872325-cfc6-4376-92a7-6823b8f90b4e');\n",
              "        const dataTable =\n",
              "          await google.colab.kernel.invokeFunction('convertToInteractive',\n",
              "                                                    [key], {});\n",
              "        if (!dataTable) return;\n",
              "\n",
              "        const docLinkHtml = 'Like what you see? Visit the ' +\n",
              "          '<a target=\"_blank\" href=https://colab.research.google.com/notebooks/data_table.ipynb>data table notebook</a>'\n",
              "          + ' to learn more about interactive tables.';\n",
              "        element.innerHTML = '';\n",
              "        dataTable['output_type'] = 'display_data';\n",
              "        await google.colab.output.renderOutput(dataTable, element);\n",
              "        const docLink = document.createElement('div');\n",
              "        docLink.innerHTML = docLinkHtml;\n",
              "        element.appendChild(docLink);\n",
              "      }\n",
              "    </script>\n",
              "  </div>\n",
              "\n",
              "\n",
              "<div id=\"df-0fcfb002-9908-460a-a7d2-5540eaa1ba95\">\n",
              "  <button class=\"colab-df-quickchart\" onclick=\"quickchart('df-0fcfb002-9908-460a-a7d2-5540eaa1ba95')\"\n",
              "            title=\"Suggest charts\"\n",
              "            style=\"display:none;\">\n",
              "\n",
              "<svg xmlns=\"http://www.w3.org/2000/svg\" height=\"24px\"viewBox=\"0 0 24 24\"\n",
              "     width=\"24px\">\n",
              "    <g>\n",
              "        <path d=\"M19 3H5c-1.1 0-2 .9-2 2v14c0 1.1.9 2 2 2h14c1.1 0 2-.9 2-2V5c0-1.1-.9-2-2-2zM9 17H7v-7h2v7zm4 0h-2V7h2v10zm4 0h-2v-4h2v4z\"/>\n",
              "    </g>\n",
              "</svg>\n",
              "  </button>\n",
              "\n",
              "<style>\n",
              "  .colab-df-quickchart {\n",
              "      --bg-color: #E8F0FE;\n",
              "      --fill-color: #1967D2;\n",
              "      --hover-bg-color: #E2EBFA;\n",
              "      --hover-fill-color: #174EA6;\n",
              "      --disabled-fill-color: #AAA;\n",
              "      --disabled-bg-color: #DDD;\n",
              "  }\n",
              "\n",
              "  [theme=dark] .colab-df-quickchart {\n",
              "      --bg-color: #3B4455;\n",
              "      --fill-color: #D2E3FC;\n",
              "      --hover-bg-color: #434B5C;\n",
              "      --hover-fill-color: #FFFFFF;\n",
              "      --disabled-bg-color: #3B4455;\n",
              "      --disabled-fill-color: #666;\n",
              "  }\n",
              "\n",
              "  .colab-df-quickchart {\n",
              "    background-color: var(--bg-color);\n",
              "    border: none;\n",
              "    border-radius: 50%;\n",
              "    cursor: pointer;\n",
              "    display: none;\n",
              "    fill: var(--fill-color);\n",
              "    height: 32px;\n",
              "    padding: 0;\n",
              "    width: 32px;\n",
              "  }\n",
              "\n",
              "  .colab-df-quickchart:hover {\n",
              "    background-color: var(--hover-bg-color);\n",
              "    box-shadow: 0 1px 2px rgba(60, 64, 67, 0.3), 0 1px 3px 1px rgba(60, 64, 67, 0.15);\n",
              "    fill: var(--button-hover-fill-color);\n",
              "  }\n",
              "\n",
              "  .colab-df-quickchart-complete:disabled,\n",
              "  .colab-df-quickchart-complete:disabled:hover {\n",
              "    background-color: var(--disabled-bg-color);\n",
              "    fill: var(--disabled-fill-color);\n",
              "    box-shadow: none;\n",
              "  }\n",
              "\n",
              "  .colab-df-spinner {\n",
              "    border: 2px solid var(--fill-color);\n",
              "    border-color: transparent;\n",
              "    border-bottom-color: var(--fill-color);\n",
              "    animation:\n",
              "      spin 1s steps(1) infinite;\n",
              "  }\n",
              "\n",
              "  @keyframes spin {\n",
              "    0% {\n",
              "      border-color: transparent;\n",
              "      border-bottom-color: var(--fill-color);\n",
              "      border-left-color: var(--fill-color);\n",
              "    }\n",
              "    20% {\n",
              "      border-color: transparent;\n",
              "      border-left-color: var(--fill-color);\n",
              "      border-top-color: var(--fill-color);\n",
              "    }\n",
              "    30% {\n",
              "      border-color: transparent;\n",
              "      border-left-color: var(--fill-color);\n",
              "      border-top-color: var(--fill-color);\n",
              "      border-right-color: var(--fill-color);\n",
              "    }\n",
              "    40% {\n",
              "      border-color: transparent;\n",
              "      border-right-color: var(--fill-color);\n",
              "      border-top-color: var(--fill-color);\n",
              "    }\n",
              "    60% {\n",
              "      border-color: transparent;\n",
              "      border-right-color: var(--fill-color);\n",
              "    }\n",
              "    80% {\n",
              "      border-color: transparent;\n",
              "      border-right-color: var(--fill-color);\n",
              "      border-bottom-color: var(--fill-color);\n",
              "    }\n",
              "    90% {\n",
              "      border-color: transparent;\n",
              "      border-bottom-color: var(--fill-color);\n",
              "    }\n",
              "  }\n",
              "</style>\n",
              "\n",
              "  <script>\n",
              "    async function quickchart(key) {\n",
              "      const quickchartButtonEl =\n",
              "        document.querySelector('#' + key + ' button');\n",
              "      quickchartButtonEl.disabled = true;  // To prevent multiple clicks.\n",
              "      quickchartButtonEl.classList.add('colab-df-spinner');\n",
              "      try {\n",
              "        const charts = await google.colab.kernel.invokeFunction(\n",
              "            'suggestCharts', [key], {});\n",
              "      } catch (error) {\n",
              "        console.error('Error during call to suggestCharts:', error);\n",
              "      }\n",
              "      quickchartButtonEl.classList.remove('colab-df-spinner');\n",
              "      quickchartButtonEl.classList.add('colab-df-quickchart-complete');\n",
              "    }\n",
              "    (() => {\n",
              "      let quickchartButtonEl =\n",
              "        document.querySelector('#df-0fcfb002-9908-460a-a7d2-5540eaa1ba95 button');\n",
              "      quickchartButtonEl.style.display =\n",
              "        google.colab.kernel.accessAllowed ? 'block' : 'none';\n",
              "    })();\n",
              "  </script>\n",
              "</div>\n",
              "\n",
              "    </div>\n",
              "  </div>\n"
            ],
            "application/vnd.google.colaboratory.intrinsic+json": {
              "type": "dataframe",
              "variable_name": "train_df",
              "summary": "{\n  \"name\": \"train_df\",\n  \"rows\": 12611,\n  \"fields\": [\n    {\n      \"column\": \"id\",\n      \"properties\": {\n        \"dtype\": \"string\",\n        \"num_unique_values\": 12611,\n        \"samples\": [\n          \"10613.png\",\n          \"14253.png\",\n          \"3546.png\"\n        ],\n        \"semantic_type\": \"\",\n        \"description\": \"\"\n      }\n    },\n    {\n      \"column\": \"boneage\",\n      \"properties\": {\n        \"dtype\": \"number\",\n        \"std\": 41,\n        \"min\": 1,\n        \"max\": 228,\n        \"num_unique_values\": 160,\n        \"samples\": [\n          76,\n          214,\n          10\n        ],\n        \"semantic_type\": \"\",\n        \"description\": \"\"\n      }\n    },\n    {\n      \"column\": \"male\",\n      \"properties\": {\n        \"dtype\": \"boolean\",\n        \"num_unique_values\": 2,\n        \"samples\": [\n          true,\n          false\n        ],\n        \"semantic_type\": \"\",\n        \"description\": \"\"\n      }\n    }\n  ]\n}"
            }
          },
          "metadata": {},
          "execution_count": 11
        }
      ],
      "source": [
        "#loading dataframes\n",
        "train_df = pd.read_csv('/content/Dataset/boneage-training-dataset.csv')\n",
        "\n",
        "#appending file extension to id column for both training and testing dataframes\n",
        "train_df['id'] = train_df['id'].apply(lambda x: str(x)+'.png')\n",
        "\n",
        "train_df.head()"
      ]
    },
    {
      "cell_type": "markdown",
      "metadata": {
        "id": "2IHTHIOXrmuU"
      },
      "source": [
        "# Feature Engineering"
      ]
    },
    {
      "cell_type": "markdown",
      "metadata": {
        "id": "JMdb0tylrmuV"
      },
      "source": [
        "## Examine the distribution of age and gender"
      ]
    },
    {
      "cell_type": "code",
      "execution_count": null,
      "metadata": {
        "id": "DO6m6DkLrmuV",
        "colab": {
          "base_uri": "https://localhost:8080/",
          "height": 536
        },
        "outputId": "df2012af-02cc-48bb-ea89-6d963707258b"
      },
      "outputs": [
        {
          "output_type": "stream",
          "name": "stdout",
          "text": [
            "gender\n",
            "male      6833\n",
            "female    5778\n",
            "Name: count, dtype: int64\n"
          ]
        },
        {
          "output_type": "execute_result",
          "data": {
            "text/plain": [
              "<Axes: xlabel='gender', ylabel='count'>"
            ]
          },
          "metadata": {},
          "execution_count": 12
        },
        {
          "output_type": "display_data",
          "data": {
            "text/plain": [
              "<Figure size 640x480 with 1 Axes>"
            ],
            "image/png": "[encoded data removed]"
          },
          "metadata": {}
        }
      ],
      "source": [
        "train_df['gender'] = train_df['male'].apply(lambda x: 'male' if x else 'female')\n",
        "print(train_df['gender'].value_counts())\n",
        "sns.countplot(x = train_df['gender'])"
      ]
    },
    {
      "cell_type": "code",
      "execution_count": null,
      "metadata": {
        "id": "3ub5BmQNrmuW",
        "colab": {
          "base_uri": "https://localhost:8080/",
          "height": 489
        },
        "outputId": "6908a4d2-12fb-4f01-c964-a47accdac9bf"
      },
      "outputs": [
        {
          "output_type": "execute_result",
          "data": {
            "text/plain": [
              "Text(0.5, 1.0, 'Number of people in each age group')"
            ]
          },
          "metadata": {},
          "execution_count": 13
        },
        {
          "output_type": "display_data",
          "data": {
            "text/plain": [
              "<Figure size 640x480 with 1 Axes>"
            ],
            "image/png": "[encoded data removed]"
          },
          "metadata": {}
        }
      ],
      "source": [
        "#plotting a histogram for bone ages\n",
        "train_df['boneage'].hist(color = 'blue')\n",
        "plt.xlabel('Age in months')\n",
        "plt.ylabel('Number of people')\n",
        "plt.title('Number of people in each age group')"
      ]
    },
    {
      "cell_type": "code",
      "execution_count": null,
      "metadata": {
        "id": "1k84sD_TrmuW",
        "colab": {
          "base_uri": "https://localhost:8080/"
        },
        "outputId": "00652fb1-12c5-4076-8be4-7e3ed900274e"
      },
      "outputs": [
        {
          "output_type": "stream",
          "name": "stdout",
          "text": [
            "MAX age: 228 months\n",
            "MIN age: 1 months\n",
            "mean: 127.3207517246848\n",
            "median: 132.0\n",
            "         id  boneage   male  gender  bone_age_z\n",
            "0  1377.png      180  False  female    1.279181\n",
            "1  1378.png       12  False  female   -2.800269\n",
            "2  1379.png       94  False  female   -0.809109\n",
            "3  1380.png      120   True    male   -0.177766\n",
            "4  1381.png       82  False  female   -1.100498\n"
          ]
        }
      ],
      "source": [
        "#oldest person in the dataset\n",
        "print('MAX age: ' + str(train_df['boneage'].max()) + ' months')\n",
        "\n",
        "#youngest person in the dataset\n",
        "print('MIN age: ' + str(train_df['boneage'].min()) + ' months')\n",
        "\n",
        "#mean age is\n",
        "mean_bone_age = train_df['boneage'].mean()\n",
        "print('mean: ' + str(mean_bone_age))\n",
        "\n",
        "#median bone age\n",
        "print('median: ' +str(train_df['boneage'].median()))\n",
        "\n",
        "#standard deviation of boneage\n",
        "std_bone_age = train_df['boneage'].std()\n",
        "\n",
        "train_df['bone_age_z'] = (train_df['boneage'] - mean_bone_age)/(std_bone_age)\n",
        "\n",
        "print(train_df.head())"
      ]
    },
    {
      "cell_type": "code",
      "execution_count": null,
      "metadata": {
        "id": "lTO5uPbsrmuX"
      },
      "outputs": [],
      "source": [
        "#splitting train dataframe into traininng and validation dataframes\n",
        "df_train, df_valid = train_test_split(train_df, test_size = 0.25, random_state = 0)"
      ]
    },
    {
      "cell_type": "code",
      "execution_count": null,
      "metadata": {
        "id": "wHzIguMRrmuX",
        "colab": {
          "base_uri": "https://localhost:8080/"
        },
        "outputId": "5d35d339-5d2c-448b-b3cc-5707d203f359"
      },
      "outputs": [
        {
          "output_type": "stream",
          "name": "stdout",
          "text": [
            "File not found: /content/Dataset/boneage-training-dataset/boneage-training-dataset4268.png.png\n",
            "File not found: /content/Dataset/boneage-training-dataset/boneage-training-dataset13538.png.png\n",
            "File not found: /content/Dataset/boneage-training-dataset/boneage-training-dataset6679.png.png\n",
            "File not found: /content/Dataset/boneage-training-dataset/boneage-training-dataset9157.png.png\n"
          ]
        }
      ],
      "source": [
        "import matplotlib.pyplot as plt\n",
        "import matplotlib.image as mpimg\n",
        "import pandas as pd\n",
        "\n",
        "\n",
        "# Ensure the path to the directory is correct and contains the image files\n",
        "image_dir = '/content/Dataset/boneage-training-dataset/boneage-training-dataset'\n",
        "\n",
        "for filename, boneage, gender in train_df[['id', 'boneage', 'gender']].sample(4).values:\n",
        "    # Construct the file path correctly with file extension\n",
        "    img_path = f'{image_dir}{filename}.png'\n",
        "\n",
        "    try:\n",
        "        # Read and display the image\n",
        "        img = mpimg.imread(img_path)\n",
        "        plt.imshow(img, cmap='gray')  # Use cmap='gray' for grayscale images\n",
        "        plt.title(f'Image name: {filename}  Bone age: {boneage / 12:.2f} years  Gender: {gender}')\n",
        "        plt.axis('off')\n",
        "        plt.show()\n",
        "    except FileNotFoundError:\n",
        "        print(f\"File not found: {img_path}\")\n"
      ]
    },
    {
      "cell_type": "markdown",
      "metadata": {
        "id": "we0OJ3i55KVa"
      },
      "source": [
        "# image preprocessing"
      ]
    },
    {
      "cell_type": "code",
      "execution_count": null,
      "metadata": {
        "id": "yKVw_6PP5Jd3"
      },
      "outputs": [],
      "source": [
        "import numpy as np\n",
        "import pandas as pd\n",
        "from sklearn.model_selection import KFold\n",
        "from tensorflow.keras.preprocessing.image import ImageDataGenerator\n",
        "from keras.applications.xception import preprocess_input as xception_preprocess_input\n",
        "\n",
        "# Load and preprocess the data\n",
        "train_df = pd.read_csv('/content/Dataset/boneage-training-dataset.csv')\n",
        "train_df['id'] = train_df['id'].apply(lambda x: str(x) + '.png')\n",
        "train_df['gender'] = train_df['male'].apply(lambda x: 'male' if x else 'female')\n",
        "\n",
        "# Normalize bone age\n",
        "mean_bone_age = train_df['boneage'].mean()\n",
        "std_bone_age = train_df['boneage'].std()\n",
        "train_df['bone_age_z'] = (train_df['boneage'] - mean_bone_age) / std_bone_age\n",
        "\n",
        "# Define image size and batch size\n",
        "img_size = 128\n",
        "batch_size = 32\n",
        "\n",
        "# Data generators with augmentation\n",
        "data_generator = ImageDataGenerator(\n",
        "    preprocessing_function=xception_preprocess_input,\n",
        "    rotation_range=20,\n",
        "    width_shift_range=0.2,\n",
        "    height_shift_range=0.2,\n",
        "    zoom_range=0.2,\n",
        "    horizontal_flip=True\n",
        ")\n",
        "\n",
        "\n",
        "# K-Fold Cross-Validation\n",
        "k = 10\n",
        "kf = KFold(n_splits=k, shuffle=True, random_state=42)\n"
      ]
    },
    {
      "cell_type": "markdown",
      "metadata": {
        "id": "v3qiQ0QG5nV3"
      },
      "source": [
        "#DRN Model"
      ]
    },
    {
      "cell_type": "code",
      "execution_count": null,
      "metadata": {
        "id": "gtwSOhV85m5A"
      },
      "outputs": [],
      "source": [
        "from tensorflow.keras.layers import Input, Conv2D, MaxPooling2D, Add, Activation, GlobalAveragePooling2D, Dense\n",
        "from tensorflow.keras.models import Model\n",
        "\n",
        "# Define the DRN architecture\n",
        "def build_model(img_size):\n",
        "    inputs = Input(shape=(img_size, img_size, 3))\n",
        "\n",
        "    # Initial convolutional layer\n",
        "    x = Conv2D(64, kernel_size=7, activation='relu', padding='same')(inputs)\n",
        "    x = MaxPooling2D()(x)\n",
        "\n",
        "    # Residual blocks\n",
        "    for _ in range(3):\n",
        "        residual = x\n",
        "        x = Conv2D(64, kernel_size=3, activation='relu', padding='same')(x)\n",
        "        x = Conv2D(64, kernel_size=3, activation='relu', padding='same')(x)\n",
        "        x = Add()([x, residual])\n",
        "        x = Activation('relu')(x)\n",
        "\n",
        "    # Pooling layer\n",
        "    x = MaxPooling2D()(x)\n",
        "\n",
        "    # Additional Convolutional layers\n",
        "    x = Conv2D(128, kernel_size=3, activation='relu', padding='same')(x)\n",
        "    x = MaxPooling2D()(x)\n",
        "\n",
        "    # Dense layers\n",
        "    x = GlobalAveragePooling2D()(x)\n",
        "    x = Dense(64, activation='relu')(x)\n",
        "\n",
        "    # Output layer\n",
        "    outputs = Dense(1, activation='linear')(x)\n",
        "\n",
        "    # Define model\n",
        "    model = Model(inputs=inputs, outputs=outputs)\n",
        "\n",
        "    return model\n"
      ]
    },
    {
      "cell_type": "markdown",
      "metadata": {
        "id": "hs_R4sqB8zLp"
      },
      "source": [
        "# Beluga whale lion optimization"
      ]
    },
    {
      "cell_type": "code",
      "execution_count": null,
      "metadata": {
        "id": "uMFPJh268yjk"
      },
      "outputs": [],
      "source": [
        "import numpy as np\n",
        "from tensorflow.keras.optimizers import SGD\n",
        "from tensorflow.keras.callbacks import EarlyStopping\n",
        "\n",
        "# Define objective function for BWLO optimization\n",
        "def objective_function(model, hyperparameters, train_data, val_data, early_stopping):\n",
        "    learning_rate, momentum = hyperparameters\n",
        "    optimizer = SGD(learning_rate=learning_rate, momentum=momentum, clipnorm=1.0)  # Added gradient clipping\n",
        "    model.compile(optimizer=optimizer, loss='mean_squared_error', metrics=['mean_absolute_error'])\n",
        "    history = model.fit(train_data[0], train_data[1], validation_data=(val_data[0], val_data[1]), epochs=50, callbacks=[early_stopping], verbose=0)\n",
        "    return min(history.history['val_loss']), min(history.history['val_mean_absolute_error'])\n",
        "\n",
        "# Define BWLO algorithm\n",
        "def BWLO(model, num_iterations, num_beluga_whales, num_lions, search_space, max_iter_without_improvement, train_data, val_data):\n",
        "    beluga_whales = np.random.uniform(\n",
        "        [search_space['learning_rate'][0], search_space['momentum'][0]],\n",
        "        [search_space['learning_rate'][1], search_space['momentum'][1]],\n",
        "        size=(num_beluga_whales, 2)\n",
        "    )\n",
        "    lions = np.random.uniform(\n",
        "        [search_space['learning_rate'][0], search_space['momentum'][0]],\n",
        "        [search_space['learning_rate'][1], search_space['momentum'][1]],\n",
        "        size=(num_lions, 2)\n",
        "    )\n",
        "    best_fitness = float('inf')\n",
        "    best_mae = float('inf')\n",
        "    best_hyperparameters = None\n",
        "    best_iter = 0\n",
        "    iter_without_improvement = 0\n",
        "    early_stopping = EarlyStopping(monitor='val_loss', patience=1, restore_best_weights=True)\n",
        "\n",
        "    for iteration in range(num_iterations):\n",
        "        beluga_whale_results = [objective_function(model, hyperparameters, train_data, val_data, early_stopping) for hyperparameters in beluga_whales]\n",
        "        lion_results = [objective_function(model, hyperparameters, train_data, val_data, early_stopping) for hyperparameters in lions]\n",
        "\n",
        "        beluga_whale_fitness = [result[0] for result in beluga_whale_results]\n",
        "        beluga_whale_mae = [result[1] for result in beluga_whale_results]\n",
        "        lion_fitness = [result[0] for result in lion_results]\n",
        "        lion_mae = [result[1] for result in lion_results]\n",
        "\n",
        "        min_beluga_whale_fitness = min(beluga_whale_fitness)\n",
        "        min_lion_fitness = min(lion_fitness)\n",
        "\n",
        "        if min_beluga_whale_fitness < best_fitness:\n",
        "            best_fitness = min_beluga_whale_fitness\n",
        "            best_mae = beluga_whale_mae[np.argmin(beluga_whale_fitness)]\n",
        "            best_hyperparameters = beluga_whales[np.argmin(beluga_whale_fitness)]\n",
        "            best_iter = iteration\n",
        "            iter_without_improvement = 0\n",
        "        elif min_lion_fitness < best_fitness:\n",
        "            best_fitness = min_lion_fitness\n",
        "            best_mae = lion_mae[np.argmin(lion_fitness)]\n",
        "            best_hyperparameters = lions[np.argmin(lion_fitness)]\n",
        "            best_iter = iteration\n",
        "            iter_without_improvement = 0\n",
        "        else:\n",
        "            iter_without_improvement += 1\n",
        "\n",
        "        if iter_without_improvement >= max_iter_without_improvement:\n",
        "            break\n",
        "\n",
        "        beluga_whales += np.random.uniform(-0.01, 0.01, size=beluga_whales.shape)\n",
        "        lions += np.random.uniform(-0.01, 0.01, size=lions.shape)\n",
        "        beluga_whales = beluga_whales[np.argsort(beluga_whale_fitness)]\n",
        "        lions = lions[np.argsort(lion_fitness)]\n",
        "        beluga_whales[:num_beluga_whales // 2] = np.random.uniform(\n",
        "            [search_space['learning_rate'][0], search_space['momentum'][0]],\n",
        "            [search_space['learning_rate'][1], search_space['momentum'][1]],\n",
        "            size=(num_beluga_whales // 2, 2)\n",
        "        )\n",
        "        lions[:num_lions // 2] = np.random.uniform(\n",
        "            [search_space['learning_rate'][0], search_space['momentum'][0]],\n",
        "            [search_space['learning_rate'][1], search_space['momentum'][1]],\n",
        "            size=(num_lions // 2, 2)\n",
        "        )\n",
        "\n",
        "        print(f\"Iteration {iteration + 1}: Best Fitness - {best_fitness}\")\n",
        "\n",
        "    return best_hyperparameters, best_fitness, best_mae, best_iter\n",
        "\n",
        "# Define search space for BWLO\n",
        "search_space = {'learning_rate': (0.001, 0.01), 'momentum': (0.5, 0.9)}\n",
        "num_iterations = 10\n",
        "num_beluga_whales = 5\n",
        "num_lions = 3\n",
        "max_iter_without_improvement = 5"
      ]
    },
    {
      "cell_type": "markdown",
      "metadata": {
        "id": "YOlXl1B-_Ht5"
      },
      "source": [
        "# **Validation**"
      ]
    },
    {
      "cell_type": "code",
      "execution_count": null,
      "metadata": {
        "colab": {
          "base_uri": "https://localhost:8080/"
        },
        "id": "3wmmkF8j_MW3",
        "outputId": "54cd7b4a-4067-4191-c029-1285e3ac80c2"
      },
      "outputs": [
        {
          "metadata": {
            "tags": null
          },
          "name": "stdout",
          "output_type": "stream",
          "text": [
            "Found 11349 validated image filenames.\n",
            "Found 1262 validated image filenames.\n"
          ]
        },
        {
          "metadata": {
            "tags": null
          },
          "name": "stderr",
          "output_type": "stream",
          "text": [
            "WARNING:tensorflow:5 out of the last 24 calls to <function Model.make_train_function.<locals>.train_function at 0x7cf6214a7880> triggered tf.function retracing. Tracing is expensive and the excessive number of tracings could be due to (1) creating @tf.function repeatedly in a loop, (2) passing tensors with different shapes, (3) passing Python objects instead of tensors. For (1), please define your @tf.function outside of the loop. For (2), @tf.function has reduce_retracing=True option that can avoid unnecessary retracing. For (3), please refer to https://www.tensorflow.org/guide/function#controlling_retracing and https://www.tensorflow.org/api_docs/python/tf/function for  more details.\n",
            "WARNING:tensorflow:5 out of the last 24 calls to <function Model.make_test_function.<locals>.test_function at 0x7cf6214a6c20> triggered tf.function retracing. Tracing is expensive and the excessive number of tracings could be due to (1) creating @tf.function repeatedly in a loop, (2) passing tensors with different shapes, (3) passing Python objects instead of tensors. For (1), please define your @tf.function outside of the loop. For (2), @tf.function has reduce_retracing=True option that can avoid unnecessary retracing. For (3), please refer to https://www.tensorflow.org/guide/function#controlling_retracing and https://www.tensorflow.org/api_docs/python/tf/function for  more details.\n",
            "WARNING:tensorflow:6 out of the last 26 calls to <function Model.make_train_function.<locals>.train_function at 0x7cf6214a40d0> triggered tf.function retracing. Tracing is expensive and the excessive number of tracings could be due to (1) creating @tf.function repeatedly in a loop, (2) passing tensors with different shapes, (3) passing Python objects instead of tensors. For (1), please define your @tf.function outside of the loop. For (2), @tf.function has reduce_retracing=True option that can avoid unnecessary retracing. For (3), please refer to https://www.tensorflow.org/guide/function#controlling_retracing and https://www.tensorflow.org/api_docs/python/tf/function for  more details.\n",
            "WARNING:tensorflow:6 out of the last 26 calls to <function Model.make_test_function.<locals>.test_function at 0x7cf628f48a60> triggered tf.function retracing. Tracing is expensive and the excessive number of tracings could be due to (1) creating @tf.function repeatedly in a loop, (2) passing tensors with different shapes, (3) passing Python objects instead of tensors. For (1), please define your @tf.function outside of the loop. For (2), @tf.function has reduce_retracing=True option that can avoid unnecessary retracing. For (3), please refer to https://www.tensorflow.org/guide/function#controlling_retracing and https://www.tensorflow.org/api_docs/python/tf/function for  more details.\n"
          ]
        },
        {
          "metadata": {
            "tags": null
          },
          "name": "stdout",
          "output_type": "stream",
          "text": [
            "Iteration 1: Best Fitness - 1.1942250728607178\n",
            "Iteration 2: Best Fitness - 1.1942145824432373\n",
            "Iteration 3: Best Fitness - 1.1942143440246582\n",
            "Iteration 4: Best Fitness - 1.1942143440246582\n",
            "Iteration 5: Best Fitness - 1.1942143440246582\n",
            "Iteration 6: Best Fitness - 1.1942143440246582\n",
            "Iteration 7: Best Fitness - 1.1942143440246582\n",
            "1/1 [==============================] - 2s 2s/step\n",
            "Found 11350 validated image filenames.\n",
            "Found 1261 validated image filenames.\n",
            "Iteration 1: Best Fitness - 1.0842934846878052\n",
            "Iteration 2: Best Fitness - 1.0573111772537231\n",
            "Iteration 3: Best Fitness - 1.0572271347045898\n",
            "Iteration 4: Best Fitness - 1.0572271347045898\n",
            "Iteration 5: Best Fitness - 1.0572271347045898\n",
            "Iteration 6: Best Fitness - 1.0572271347045898\n",
            "Iteration 7: Best Fitness - 1.0572271347045898\n",
            "1/1 [==============================] - 2s 2s/step\n",
            "Found 11350 validated image filenames.\n",
            "Found 1261 validated image filenames.\n",
            "Iteration 1: Best Fitness - 0.8947440385818481\n",
            "Iteration 2: Best Fitness - 0.8947440385818481\n",
            "Iteration 3: Best Fitness - 0.8947440385818481\n",
            "Iteration 4: Best Fitness - 0.8947440385818481\n",
            "Iteration 5: Best Fitness - 0.8947440385818481\n",
            "1/1 [==============================] - 2s 2s/step\n",
            "Found 11350 validated image filenames.\n",
            "Found 1261 validated image filenames.\n",
            "Iteration 1: Best Fitness - 1.194916009902954\n",
            "Iteration 2: Best Fitness - 1.1736974716186523\n",
            "Iteration 3: Best Fitness - 1.1736974716186523\n",
            "Iteration 4: Best Fitness - 1.1736974716186523\n",
            "Iteration 5: Best Fitness - 1.1736974716186523\n",
            "Iteration 6: Best Fitness - 1.1736974716186523\n",
            "1/1 [==============================] - 2s 2s/step\n",
            "Found 11350 validated image filenames.\n",
            "Found 1261 validated image filenames.\n",
            "Iteration 1: Best Fitness - 0.5675313472747803\n",
            "Iteration 2: Best Fitness - 0.49500003457069397\n",
            "Iteration 3: Best Fitness - 0.49500003457069397\n",
            "Iteration 4: Best Fitness - 0.49500003457069397\n",
            "Iteration 5: Best Fitness - 0.49500003457069397\n",
            "Iteration 6: Best Fitness - 0.49500003457069397\n"
          ]
        },
        {
          "metadata": {
            "tags": null
          },
          "name": "stderr",
          "output_type": "stream",
          "text": [
            "WARNING:tensorflow:5 out of the last 5 calls to <function Model.make_predict_function.<locals>.predict_function at 0x7cf5f80a4820> triggered tf.function retracing. Tracing is expensive and the excessive number of tracings could be due to (1) creating @tf.function repeatedly in a loop, (2) passing tensors with different shapes, (3) passing Python objects instead of tensors. For (1), please define your @tf.function outside of the loop. For (2), @tf.function has reduce_retracing=True option that can avoid unnecessary retracing. For (3), please refer to https://www.tensorflow.org/guide/function#controlling_retracing and https://www.tensorflow.org/api_docs/python/tf/function for  more details.\n"
          ]
        },
        {
          "metadata": {
            "tags": null
          },
          "name": "stdout",
          "output_type": "stream",
          "text": [
            "1/1 [==============================] - 2s 2s/step\n",
            "Found 11350 validated image filenames.\n",
            "Found 1261 validated image filenames.\n",
            "Iteration 1: Best Fitness - 1.217335820198059\n",
            "Iteration 2: Best Fitness - 1.0428798198699951\n",
            "Iteration 3: Best Fitness - 1.0428533554077148\n",
            "Iteration 4: Best Fitness - 1.0428533554077148\n",
            "Iteration 5: Best Fitness - 1.0428533554077148\n",
            "Iteration 6: Best Fitness - 1.0428533554077148\n",
            "Iteration 7: Best Fitness - 1.0428533554077148\n"
          ]
        },
        {
          "metadata": {
            "tags": null
          },
          "name": "stderr",
          "output_type": "stream",
          "text": [
            "WARNING:tensorflow:6 out of the last 6 calls to <function Model.make_predict_function.<locals>.predict_function at 0x7cf5a9801120> triggered tf.function retracing. Tracing is expensive and the excessive number of tracings could be due to (1) creating @tf.function repeatedly in a loop, (2) passing tensors with different shapes, (3) passing Python objects instead of tensors. For (1), please define your @tf.function outside of the loop. For (2), @tf.function has reduce_retracing=True option that can avoid unnecessary retracing. For (3), please refer to https://www.tensorflow.org/guide/function#controlling_retracing and https://www.tensorflow.org/api_docs/python/tf/function for  more details.\n"
          ]
        },
        {
          "output_type": "stream",
          "name": "stdout",
          "text": [
            "1/1 [==============================] - 3s 3s/step\n",
            "Found 11350 validated image filenames.\n",
            "Found 1261 validated image filenames.\n",
            "Iteration 1: Best Fitness - 1.0878136157989502\n",
            "Iteration 2: Best Fitness - 1.0878102779388428\n",
            "Iteration 3: Best Fitness - 1.0878050327301025\n",
            "Iteration 4: Best Fitness - 1.0878050327301025\n",
            "Iteration 5: Best Fitness - 1.0878050327301025\n",
            "Iteration 6: Best Fitness - 1.0878050327301025\n",
            "Iteration 7: Best Fitness - 1.0878050327301025\n",
            "1/1 [==============================] - 2s 2s/step\n",
            "Found 11350 validated image filenames.\n",
            "Found 1261 validated image filenames.\n",
            "Iteration 1: Best Fitness - 1.0531615018844604\n",
            "Iteration 2: Best Fitness - 1.0531615018844604\n",
            "Iteration 3: Best Fitness - 1.0531615018844604\n",
            "Iteration 4: Best Fitness - 1.0531615018844604\n",
            "Iteration 5: Best Fitness - 1.0531615018844604\n",
            "1/1 [==============================] - 1s 1s/step\n",
            "Found 11350 validated image filenames.\n",
            "Found 1261 validated image filenames.\n",
            "Iteration 1: Best Fitness - 0.7182376384735107\n",
            "Iteration 2: Best Fitness - 0.6682900786399841\n",
            "Iteration 3: Best Fitness - 0.6682900786399841\n",
            "Iteration 4: Best Fitness - 0.6682900786399841\n",
            "Iteration 5: Best Fitness - 0.6682900786399841\n",
            "Iteration 6: Best Fitness - 0.6682900786399841\n",
            "1/1 [==============================] - 2s 2s/step\n",
            "Found 11350 validated image filenames.\n",
            "Found 1261 validated image filenames.\n",
            "Iteration 1: Best Fitness - 0.6671210527420044\n",
            "Iteration 2: Best Fitness - 0.667120099067688\n",
            "Iteration 3: Best Fitness - 0.6671143770217896\n",
            "Iteration 4: Best Fitness - 0.6671143770217896\n",
            "Iteration 5: Best Fitness - 0.6671143770217896\n",
            "Iteration 6: Best Fitness - 0.6671143770217896\n",
            "Iteration 7: Best Fitness - 0.6671143770217896\n",
            "1/1 [==============================] - 1s 1s/step\n",
            "Fold 1: Best Hyperparameters - [0.00732614 0.52082794], Best Fitness - 1.1942143440246582, Best Iteration - 2\n",
            "Fold 2: Best Hyperparameters - [-0.0082772   0.87777413], Best Fitness - 1.0572271347045898, Best Iteration - 2\n",
            "Fold 3: Best Hyperparameters - [0.00323347 0.5340156 ], Best Fitness - 0.8947440385818481, Best Iteration - 0\n",
            "Fold 4: Best Hyperparameters - [-0.00110828  0.85692135], Best Fitness - 1.1736974716186523, Best Iteration - 1\n",
            "Fold 5: Best Hyperparameters - [-0.00110828  0.85692135], Best Fitness - 0.49500003457069397, Best Iteration - 1\n",
            "Fold 6: Best Hyperparameters - [-0.0082772   0.87777413], Best Fitness - 1.0428533554077148, Best Iteration - 2\n",
            "Fold 7: Best Hyperparameters - [0.00836083 0.86103909], Best Fitness - 1.0878050327301025, Best Iteration - 2\n",
            "Fold 8: Best Hyperparameters - [0.00381959 0.5768855 ], Best Fitness - 1.0531615018844604, Best Iteration - 0\n",
            "Fold 9: Best Hyperparameters - [-0.00343325  0.82553354], Best Fitness - 0.6682900786399841, Best Iteration - 1\n",
            "Fold 10: Best Hyperparameters - [-0.0082772   0.87777413], Best Fitness - 0.6671143770217896, Best Iteration - 2\n",
            "\n",
            "Mean Results:\n",
            "Mean Absolute Error (MAE): 0.7731232881546021\n",
            "\n",
            "Standard Deviation:\n",
            "Mean Absolute Error (MAE): 0.12305888565944254\n"
          ]
        }
      ],
      "source": [
        "fold_results = []\n",
        "mae_results = []\n",
        "\n",
        "for train_index, val_index in kf.split(train_df):\n",
        "    df_train = train_df.iloc[train_index]\n",
        "    df_valid = train_df.iloc[val_index]\n",
        "\n",
        "    train_generator = data_generator.flow_from_dataframe(\n",
        "        dataframe=df_train,\n",
        "        directory='/content/Dataset/boneage-training-dataset/boneage-training-dataset',\n",
        "        x_col='id',\n",
        "        y_col='bone_age_z',\n",
        "        batch_size=batch_size,\n",
        "        seed=42,\n",
        "        shuffle=True,\n",
        "        class_mode='other',\n",
        "        target_size=(img_size, img_size)\n",
        "    )\n",
        "\n",
        "    val_generator = data_generator.flow_from_dataframe(\n",
        "        dataframe=df_valid,\n",
        "        directory='/content/Dataset/boneage-training-dataset/boneage-training-dataset',\n",
        "        x_col='id',\n",
        "        y_col='bone_age_z',\n",
        "        batch_size=batch_size,\n",
        "        seed=42,\n",
        "        shuffle=True,\n",
        "        class_mode='other',\n",
        "        target_size=(img_size, img_size)\n",
        "    )\n",
        "\n",
        "    # Values for train_generator and val_generator\n",
        "    train_X, train_Y = next(train_generator)\n",
        "    val_X, val_Y = next(val_generator)\n",
        "\n",
        "    # Normalize the data\n",
        "    train_X = train_X / 255.0\n",
        "    val_X = val_X / 255.0\n",
        "\n",
        "    model = build_model(img_size)\n",
        "\n",
        "    # Run BWLO optimization\n",
        "    best_hyperparameters, best_fitness, best_mae, best_iter = BWLO(\n",
        "        model, num_iterations, num_beluga_whales, num_lions, search_space, max_iter_without_improvement, (train_X, train_Y), (val_X, val_Y))\n",
        "\n",
        "    # Store results for each fold\n",
        "    fold_results.append({\n",
        "        'best_hyperparameters': best_hyperparameters,\n",
        "        'best_fitness': best_fitness,\n",
        "        'best_iter': best_iter\n",
        "    })\n",
        "    mae_results.append(best_mae)\n",
        "\n",
        "    # Evaluate on validation set\n",
        "    val_predictions = model.predict(val_X).flatten()\n",
        "    val_predictions_binary = (val_predictions > 0.5).astype(int)\n",
        "    val_Y_binary = (val_Y > 0.5).astype(int)\n",
        "\n",
        "# Display fold results\n",
        "for i, result in enumerate(fold_results):\n",
        "    print(f\"Fold {i + 1}: Best Hyperparameters - {result['best_hyperparameters']}, Best Fitness - {result['best_fitness']}, Best Iteration - {result['best_iter']}\")\n",
        "\n",
        "# Calculate mean and standard deviation of MAE\n",
        "mean_mae = np.mean(mae_results)\n",
        "std_mae = np.std(mae_results)\n",
        "\n",
        "# Print mean and standard deviation of all metrics\n",
        "print(\"\\nMean Results:\")\n",
        "print(\"Mean Absolute Error (MAE):\", mean_mae)\n",
        "print(\"\\nStandard Deviation:\")\n",
        "print(\"Mean Absolute Error (MAE):\", std_mae)\n"
      ]
    },
    {
      "cell_type": "code",
      "source": [
        "# Calculate error percentage based on MAE\n",
        "error_percentage_mae = (mean_mae_months / bone_age_range) * 100\n",
        "\n",
        "print(f\"Error Percentage based on MAE: {error_percentage_mae:.2f}%\")\n",
        "# Calculate error percentage based on MSE\n",
        "error_percentage_mse = (np.sqrt(mean_mse_months) / bone_age_range) * 100\n",
        "\n",
        "print(f\"Error Percentage based on MSE: {error_percentage_mse:.2f}%\")\n",
        "# Calculate total error (MAE or RMSE) and total data range\n",
        "total_error_mae = mean_mae_months\n",
        "total_error_rmse = np.sqrt(mean_mse_months)\n",
        "total_data_range = bone_age_range\n",
        "\n",
        "# Calculate accuracy based on MAE\n",
        "accuracy_mae = max(0, min(100, (1 - (total_error_mae / total_data_range)) * 100))\n",
        "\n",
        "# Calculate accuracy based on RMSE\n",
        "accuracy_rmse = max(0, min(100, (1 - (total_error_rmse / total_data_range)) * 100))\n",
        "\n",
        "print(f\"Accuracy based on MAE: {accuracy_mae:.2f}%\")\n",
        "print(f\"Accuracy based on RMSE: {accuracy_rmse:.2f}%\")\n",
        "\n"
      ],
      "metadata": {
        "colab": {
          "base_uri": "https://localhost:8080/"
        },
        "id": "c0J1_1xPG4lS",
        "outputId": "912b1811-795f-49b7-beca-314fc50febf3"
      },
      "execution_count": null,
      "outputs": [
        {
          "output_type": "stream",
          "name": "stdout",
          "text": [
            "Error Percentage based on MAE: 0.32%\n",
            "Error Percentage based on MSE: 0.38%\n",
            "Accuracy based on MAE: 99.68%\n",
            "Accuracy based on RMSE: 99.62%\n"
          ]
        }
      ]
    }
  ],
  "metadata": {
    "colab": {
      "provenance": [],
      "include_colab_link": true
    },
    "kaggle": {
      "accelerator": "nvidiaTeslaT4",
      "dataSources": [
        {
          "datasetId": 10832,
          "sourceId": 15122,
          "sourceType": "datasetVersion"
        }
      ],
      "dockerImageVersionId": 30699,
      "isGpuEnabled": true,
      "isInternetEnabled": true,
      "language": "python",
      "sourceType": "notebook"
    },
    "kernelspec": {
      "display_name": "Python 3",
      "language": "python",
      "name": "python3"
    },
    "language_info": {
      "codemirror_mode": {
        "name": "ipython",
        "version": 3
      },
      "file_extension": ".py",
      "mimetype": "text/x-python",
      "name": "python",
      "nbconvert_exporter": "python",
      "pygments_lexer": "ipython3",
      "version": "3.10.13"
    }
  },
  "nbformat": 4,
  "nbformat_minor": 0
}